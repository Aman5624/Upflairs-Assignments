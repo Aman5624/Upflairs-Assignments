{
 "cells": [
  {
   "cell_type": "code",
   "execution_count": 1,
   "metadata": {},
   "outputs": [],
   "source": [
    "import numpy as np\n",
    "arr1 = np.random.randint(1,51,60).reshape(12,5)"
   ]
  },
  {
   "cell_type": "code",
   "execution_count": 2,
   "metadata": {},
   "outputs": [
    {
     "data": {
      "text/plain": [
       "array([[44,  7,  5, 35, 25],\n",
       "       [49, 36, 47, 13, 22],\n",
       "       [20, 12, 40, 33, 48],\n",
       "       [33, 35, 28, 21, 35],\n",
       "       [46, 20, 18, 11, 20],\n",
       "       [50,  3, 20, 18, 19],\n",
       "       [ 8, 29, 22, 19, 29],\n",
       "       [ 3, 39,  5, 18, 36],\n",
       "       [13, 22,  8, 24, 21],\n",
       "       [50, 22, 36, 27, 44],\n",
       "       [39, 22, 32, 29,  7],\n",
       "       [15,  4, 44, 15, 19]])"
      ]
     },
     "execution_count": 2,
     "metadata": {},
     "output_type": "execute_result"
    }
   ],
   "source": [
    "arr1"
   ]
  },
  {
   "cell_type": "code",
   "execution_count": 3,
   "metadata": {},
   "outputs": [
    {
     "data": {
      "text/plain": [
       "2"
      ]
     },
     "execution_count": 3,
     "metadata": {},
     "output_type": "execute_result"
    }
   ],
   "source": [
    "arr1.ndim"
   ]
  },
  {
   "cell_type": "code",
   "execution_count": 4,
   "metadata": {},
   "outputs": [
    {
     "data": {
      "text/plain": [
       "array([15,  4, 44, 15, 19])"
      ]
     },
     "execution_count": 4,
     "metadata": {},
     "output_type": "execute_result"
    }
   ],
   "source": [
    "arr1[11] #lastrow"
   ]
  },
  {
   "cell_type": "code",
   "execution_count": 5,
   "metadata": {},
   "outputs": [
    {
     "data": {
      "text/plain": [
       "array([[44,  7,  5, 35, 25],\n",
       "       [49, 36, 47, 13, 22],\n",
       "       [20, 12, 40, 33, 48],\n",
       "       [33, 35, 28, 21, 35],\n",
       "       [46, 20, 18, 11, 20],\n",
       "       [50,  3, 20, 18, 19],\n",
       "       [ 8, 29, 22, 19, 29],\n",
       "       [ 3, 39,  5, 18, 36],\n",
       "       [13, 22,  8, 24, 21],\n",
       "       [50, 22, 36, 27, 44],\n",
       "       [39, 22, 32, 29,  7],\n",
       "       [15,  4, 44, 15, 19]])"
      ]
     },
     "execution_count": 5,
     "metadata": {},
     "output_type": "execute_result"
    }
   ],
   "source": [
    "arr1"
   ]
  },
  {
   "cell_type": "code",
   "execution_count": 6,
   "metadata": {},
   "outputs": [
    {
     "data": {
      "text/plain": [
       "array([[31, 35, 19,  3,  1],\n",
       "       [23, 20, 20, 25, 14],\n",
       "       [19,  2, 34,  3, 11],\n",
       "       [32,  6, 47, 24, 11],\n",
       "       [ 2, 25, 34, 41, 47],\n",
       "       [40, 43, 21,  3, 27],\n",
       "       [45, 25, 35, 15, 36],\n",
       "       [50, 33, 37, 37, 31],\n",
       "       [43, 25, 28, 42,  7],\n",
       "       [38, 25, 12, 21,  1],\n",
       "       [41, 39, 20, 28, 44],\n",
       "       [36,  1, 22, 32, 49]])"
      ]
     },
     "execution_count": 6,
     "metadata": {},
     "output_type": "execute_result"
    }
   ],
   "source": [
    "def max_n_min(arr):\n",
    "    for i in range(len(arr)):\n",
    "        j=0\n",
    "        max=arr[i][j]\n",
    "        min=arr[i][j]\n",
    "        for num in arr[i]:\n",
    "            if arr[i][j]>max:\n",
    "                max=arr[i][j]\n",
    "            if arr[i][j]<min:\n",
    "                min=arr[i][j]\n",
    "            j+=1\n",
    "        print(f'For row {i+1}, max element : {max}  and min element : {min}' )\n",
    "\n",
    "arr2 = np.random.randint(1,51,60).reshape(12,5)\n",
    "arr2"
   ]
  },
  {
   "cell_type": "code",
   "execution_count": 7,
   "metadata": {},
   "outputs": [
    {
     "name": "stdout",
     "output_type": "stream",
     "text": [
      "For row 1, max element : 35  and min element : 1\n",
      "For row 2, max element : 25  and min element : 14\n",
      "For row 3, max element : 34  and min element : 2\n",
      "For row 4, max element : 47  and min element : 6\n",
      "For row 5, max element : 47  and min element : 2\n",
      "For row 6, max element : 43  and min element : 3\n",
      "For row 7, max element : 45  and min element : 15\n",
      "For row 8, max element : 50  and min element : 31\n",
      "For row 9, max element : 43  and min element : 7\n",
      "For row 10, max element : 38  and min element : 1\n",
      "For row 11, max element : 44  and min element : 20\n",
      "For row 12, max element : 49  and min element : 1\n"
     ]
    }
   ],
   "source": [
    "max_n_min(arr2)"
   ]
  }
 ],
 "metadata": {
  "kernelspec": {
   "display_name": "Python 3",
   "language": "python",
   "name": "python3"
  },
  "language_info": {
   "codemirror_mode": {
    "name": "ipython",
    "version": 3
   },
   "file_extension": ".py",
   "mimetype": "text/x-python",
   "name": "python",
   "nbconvert_exporter": "python",
   "pygments_lexer": "ipython3",
   "version": "3.11.5"
  }
 },
 "nbformat": 4,
 "nbformat_minor": 2
}
