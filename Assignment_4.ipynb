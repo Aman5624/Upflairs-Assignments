{
 "cells": [
  {
   "cell_type": "code",
   "execution_count": 1,
   "metadata": {},
   "outputs": [
    {
     "data": {
      "text/plain": [
       "5040"
      ]
     },
     "execution_count": 1,
     "metadata": {},
     "output_type": "execute_result"
    }
   ],
   "source": [
    "def factorial(num):\n",
    "    if num>=0:\n",
    "        if num==0 or num==1:\n",
    "            return 1\n",
    "        else:\n",
    "            return num * factorial(num-1)\n",
    "    else:\n",
    "        raise ValueError('Enter non negative number')\n",
    "    \n",
    "factorial(7)"
   ]
  },
  {
   "cell_type": "code",
   "execution_count": 2,
   "metadata": {},
   "outputs": [],
   "source": [
    "import os\n",
    "file = open( \"demo.text\", \"w\" )\n",
    "file.write( \"Hello this is line.\\n\" )\n",
    "file.write( \"This is the second line of the file.\\n\" )\n",
    "file.write( \"This is the biggest line , the third line\\n\" )\n",
    "file.write( \"Hello world\\n\" )\n",
    "file.write( \"\\n\" )\n",
    "file1 = open(\"demo.text\" , \"r\")\n",
    "for line in file1 :\n",
    "    words = line.split()\n",
    "    word_count = len(words)\n",
    "    print(f\" {line} -> word count : {word_count} \\n \" )\n",
    "    \n",
    "file1.close()"
   ]
  },
  {
   "cell_type": "code",
   "execution_count": 3,
   "metadata": {},
   "outputs": [
    {
     "name": "stdout",
     "output_type": "stream",
     "text": [
      "Maximum no. : 36\n",
      "Minimum no. : 3\n"
     ]
    }
   ],
   "source": [
    "def max_and_min(nums):\n",
    "    max = nums[0]\n",
    "    min = nums[0]\n",
    "    for n in nums:\n",
    "        if n>max:\n",
    "            max=n\n",
    "        if n<min:\n",
    "            min=n\n",
    "\n",
    "    print(f'Maximum no. : {max}')\n",
    "    print(f'Minimum no. : {min}')\n",
    "\n",
    "lst1 = [3,5,25,12,5,36,3,18,22]\n",
    "max_and_min(lst1)"
   ]
  },
  {
   "cell_type": "code",
   "execution_count": 4,
   "metadata": {},
   "outputs": [
    {
     "name": "stdout",
     "output_type": "stream",
     "text": [
      "Longest word is : Assignment\n"
     ]
    }
   ],
   "source": [
    "words = ['Book', 'Assignment', 'Automation', 'Civil', 'Artificial', 'Cup', 'Random']\n",
    "max_len = len(words[0])\n",
    "for word in words:\n",
    "    if len(word) > max_len:\n",
    "        max_len = len(word)\n",
    "        long_word = word\n",
    "    \n",
    "print(f'Longest word is : {long_word}')"
   ]
  }
 ],
 "metadata": {
  "kernelspec": {
   "display_name": "Python 3",
   "language": "python",
   "name": "python3"
  },
  "language_info": {
   "codemirror_mode": {
    "name": "ipython",
    "version": 3
   },
   "file_extension": ".py",
   "mimetype": "text/x-python",
   "name": "python",
   "nbconvert_exporter": "python",
   "pygments_lexer": "ipython3",
   "version": "3.11.9"
  }
 },
 "nbformat": 4,
 "nbformat_minor": 2
}
