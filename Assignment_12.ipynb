{
 "cells": [
  {
   "cell_type": "code",
   "execution_count": 2,
   "metadata": {},
   "outputs": [],
   "source": [
    "import numpy as np"
   ]
  },
  {
   "cell_type": "code",
   "execution_count": 3,
   "metadata": {},
   "outputs": [],
   "source": [
    "arr = np.random.randint(1,100,60)"
   ]
  },
  {
   "cell_type": "code",
   "execution_count": 4,
   "metadata": {},
   "outputs": [
    {
     "data": {
      "text/plain": [
       "array([71, 16, 67, 62, 22, 81, 24, 75, 27, 37, 59, 24, 66, 11, 27, 18, 68,\n",
       "       28, 15, 49, 47, 65, 48, 32, 62, 82, 53, 57, 32, 27, 41, 90, 79, 96,\n",
       "       37, 33, 72, 31, 52, 72, 96, 76,  9, 73, 44, 33, 70, 79,  2, 86, 73,\n",
       "       28, 31, 61,  7, 22, 99, 82,  9, 40])"
      ]
     },
     "execution_count": 4,
     "metadata": {},
     "output_type": "execute_result"
    }
   ],
   "source": [
    "arr"
   ]
  },
  {
   "cell_type": "code",
   "execution_count": 5,
   "metadata": {},
   "outputs": [],
   "source": [
    "arr = arr.reshape(12,5)"
   ]
  },
  {
   "cell_type": "code",
   "execution_count": 6,
   "metadata": {},
   "outputs": [
    {
     "data": {
      "text/plain": [
       "array([[71, 16, 67, 62, 22],\n",
       "       [81, 24, 75, 27, 37],\n",
       "       [59, 24, 66, 11, 27],\n",
       "       [18, 68, 28, 15, 49],\n",
       "       [47, 65, 48, 32, 62],\n",
       "       [82, 53, 57, 32, 27],\n",
       "       [41, 90, 79, 96, 37],\n",
       "       [33, 72, 31, 52, 72],\n",
       "       [96, 76,  9, 73, 44],\n",
       "       [33, 70, 79,  2, 86],\n",
       "       [73, 28, 31, 61,  7],\n",
       "       [22, 99, 82,  9, 40]])"
      ]
     },
     "execution_count": 6,
     "metadata": {},
     "output_type": "execute_result"
    }
   ],
   "source": [
    "arr"
   ]
  },
  {
   "cell_type": "code",
   "execution_count": 7,
   "metadata": {},
   "outputs": [
    {
     "name": "stdout",
     "output_type": "stream",
     "text": [
      "Last row of array : [22 99 82  9 40]\n",
      "Max in last row : 99\n",
      "Min in last row : 9\n",
      "Average of elements in last row : 50.4\n",
      "No. of evens in last row : 3\n"
     ]
    }
   ],
   "source": [
    "def array_func(arr):\n",
    "    last_row = arr[-1]\n",
    "\n",
    "    # max and min element\n",
    "\n",
    "    max = last_row[0]\n",
    "    min = last_row[0]\n",
    "    for n in last_row:\n",
    "        if n>max:\n",
    "            max=n\n",
    "        if n<min:\n",
    "            min=n\n",
    "\n",
    "    # Average\n",
    "     \n",
    "    avg = last_row.sum() / len(last_row)\n",
    "\n",
    "    # No. of evens\n",
    "    \n",
    "    even = 0\n",
    "    for i in last_row:\n",
    "        if i%2 == 0:\n",
    "            even+=1\n",
    "\n",
    "    return (max,min, avg, even)\n",
    "\n",
    "data = array_func(arr)\n",
    "print(f'Last row of array : {arr[-1]}')\n",
    "print(f'Max in last row : {data[0]}')\n",
    "print(f'Min in last row : {data[1]}')\n",
    "print(f'Average of elements in last row : {data[2]}')\n",
    "print(f'No. of evens in last row : {data[3]}')"
   ]
  },
  {
   "cell_type": "code",
   "execution_count": 8,
   "metadata": {},
   "outputs": [
    {
     "data": {
      "text/plain": [
       "array([[1, 2, 3],\n",
       "       [4, 5, 6],\n",
       "       [7, 8, 9]])"
      ]
     },
     "execution_count": 8,
     "metadata": {},
     "output_type": "execute_result"
    }
   ],
   "source": [
    "arr1 = np.array([[1,2,3],[4,5,6],[7,8,9]])\n",
    "arr1"
   ]
  },
  {
   "cell_type": "code",
   "execution_count": 9,
   "metadata": {},
   "outputs": [
    {
     "data": {
      "text/plain": [
       "array([[3, 2, 1],\n",
       "       [6, 5, 4],\n",
       "       [9, 8, 7]])"
      ]
     },
     "execution_count": 9,
     "metadata": {},
     "output_type": "execute_result"
    }
   ],
   "source": [
    "arr1[:,::-1]"
   ]
  }
 ],
 "metadata": {
  "kernelspec": {
   "display_name": "Python 3",
   "language": "python",
   "name": "python3"
  },
  "language_info": {
   "codemirror_mode": {
    "name": "ipython",
    "version": 3
   },
   "file_extension": ".py",
   "mimetype": "text/x-python",
   "name": "python",
   "nbconvert_exporter": "python",
   "pygments_lexer": "ipython3",
   "version": "3.11.5"
  }
 },
 "nbformat": 4,
 "nbformat_minor": 2
}
